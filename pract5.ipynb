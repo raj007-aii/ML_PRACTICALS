{
 "cells": [
  {
   "cell_type": "markdown",
   "metadata": {},
   "source": [
    "pract 5 :- Implement bootstrapping sampling technique on the given dataset."
   ]
  },
  {
   "cell_type": "code",
   "execution_count": 8,
   "metadata": {},
   "outputs": [],
   "source": [
    "import numpy as np"
   ]
  },
  {
   "cell_type": "code",
   "execution_count": 9,
   "metadata": {},
   "outputs": [],
   "source": [
    "d = np.array([10,20,30,40,50,60,70,80,90,100])"
   ]
  },
  {
   "cell_type": "code",
   "execution_count": 25,
   "metadata": {},
   "outputs": [],
   "source": [
    "num_bootstrap_samples = 10"
   ]
  },
  {
   "cell_type": "code",
   "execution_count": 26,
   "metadata": {},
   "outputs": [
    {
     "name": "stdout",
     "output_type": "stream",
     "text": [
      "[20 30 50 80 80]\n",
      "[100  10 100  80  60]\n",
      "[90 20 30 10 80]\n",
      "[90 40 70 30 40]\n",
      "[ 50  40  20  70 100]\n",
      "[90 90 20 10 50]\n",
      "[20 30 70 20 50]\n",
      "[20 30 70 30 40]\n",
      "[20 80 60 20 20]\n",
      "[100  70  70  40  80]\n"
     ]
    }
   ],
   "source": [
    "for i in range(num_bootstrap_samples):\n",
    "    # Generate a bootstrap sample with replacement\n",
    "    bootstrap_sample = np.random.choice(d, size=5, replace=True)\n",
    "    print(bootstrap_sample)\n",
    "    "
   ]
  },
  {
   "cell_type": "code",
   "execution_count": null,
   "metadata": {},
   "outputs": [],
   "source": []
  }
 ],
 "metadata": {
  "kernelspec": {
   "display_name": "Python 3",
   "language": "python",
   "name": "python3"
  },
  "language_info": {
   "codemirror_mode": {
    "name": "ipython",
    "version": 3
   },
   "file_extension": ".py",
   "mimetype": "text/x-python",
   "name": "python",
   "nbconvert_exporter": "python",
   "pygments_lexer": "ipython3",
   "version": "3.10.4"
  },
  "orig_nbformat": 4
 },
 "nbformat": 4,
 "nbformat_minor": 2
}
